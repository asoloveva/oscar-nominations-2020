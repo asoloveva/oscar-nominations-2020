{
 "cells": [
  {
   "cell_type": "markdown",
   "metadata": {},
   "source": [
    "Predictions for Best Picture of 2019 nominations. First of all, we will collect scraped data from Rotten Tomatoes website and afterwards building a classification model in order to predict which movie will be nominated for the Best Picture of 2019."
   ]
  },
  {
   "cell_type": "code",
   "execution_count": 50,
   "metadata": {},
   "outputs": [
    {
     "name": "stdout",
     "output_type": "stream",
     "text": [
      "Requirement already satisfied: selenium in /anaconda3/lib/python3.7/site-packages (3.141.0)\n",
      "Requirement already satisfied: urllib3 in /anaconda3/lib/python3.7/site-packages (from selenium) (1.24.2)\n",
      "Note: you may need to restart the kernel to use updated packages.\n"
     ]
    }
   ],
   "source": [
    "# Install headless browser to fasten webscraping\n",
    "pip install selenium"
   ]
  },
  {
   "cell_type": "code",
   "execution_count": 2,
   "metadata": {},
   "outputs": [],
   "source": [
    "#Import all nessasary libraries \n",
    "import pandas as pd\n",
    "from bs4 import BeautifulSoup\n",
    "import requests"
   ]
  },
  {
   "cell_type": "markdown",
   "metadata": {},
   "source": [
    "Also, we will need GeckoDriver which is a link between Selenium and a web browser Firefox. I use Homebrew for Mac in order to install GeckoDriver.\n",
    "If you do not have Homebrew installed on your Mac follow below steps:\n",
    "1. Open Terminal on your Mac\n",
    "2. Input the following and press Enter to run:\n",
    "ruby -e \"$(curl -fsSL https://raw.githubusercontent.com/Homebrew/install/master/install)\" < /dev/null 2> /dev/null\n",
    "3. Install Homebrew by inserting the following and press Enter:\n",
    "brew install geckodriver\n",
    "4. You might need to enter your Mac password\n",
    "5. Tadaaa, we are done!\n",
    "\n",
    "PS: Don't forget to dowload Firefox browser itself"
   ]
  },
  {
   "cell_type": "code",
   "execution_count": 3,
   "metadata": {},
   "outputs": [],
   "source": [
    "from selenium import webdriver\n",
    "from time import sleep"
   ]
  },
  {
   "cell_type": "code",
   "execution_count": 4,
   "metadata": {},
   "outputs": [],
   "source": [
    "# Crete a driver named Firefox and Set nessesary URL\n",
    "\n",
    "driver = webdriver.Firefox()\n",
    "driver.get(\"https://www.rottentomatoes.com/browse/in-theaters/\")\n",
    "\n",
    "# Wait for 1 second and take needed information\n",
    "\n",
    "sleep(1)\n",
    "html = driver.page_source"
   ]
  },
  {
   "cell_type": "code",
   "execution_count": 5,
   "metadata": {},
   "outputs": [],
   "source": [
    "# After we received html, we will use BeautifulSoup liabray to loacte nessesary elements and scrape their text\n",
    "\n",
    "html = BeautifulSoup(html, \"lxml\")\n",
    "\n",
    "#soup = BeautifulSoup(html.text, 'html.parser')"
   ]
  },
  {
   "cell_type": "code",
   "execution_count": 8,
   "metadata": {},
   "outputs": [],
   "source": [
    "#Create a dataframe for multiple variables\n",
    "\n",
    "oscar = pd.DataFrame(columns=['Title', 'Score', 'Release'])"
   ]
  },
  {
   "cell_type": "markdown",
   "metadata": {},
   "source": [
    "In order to locate particular elements follow below steps:\n",
    "1. Open Firefox browser and enter our URL\n",
    "2. Right click on title or other nessesary variable and choose Inspect which opens HTML\n",
    "3. Find title elements such as name and attributes"
   ]
  },
  {
   "cell_type": "code",
   "execution_count": 10,
   "metadata": {},
   "outputs": [
    {
     "data": {
      "text/html": [
       "<div>\n",
       "<style scoped>\n",
       "    .dataframe tbody tr th:only-of-type {\n",
       "        vertical-align: middle;\n",
       "    }\n",
       "\n",
       "    .dataframe tbody tr th {\n",
       "        vertical-align: top;\n",
       "    }\n",
       "\n",
       "    .dataframe thead th {\n",
       "        text-align: right;\n",
       "    }\n",
       "</style>\n",
       "<table border=\"1\" class=\"dataframe\">\n",
       "  <thead>\n",
       "    <tr style=\"text-align: right;\">\n",
       "      <th></th>\n",
       "      <th>Title</th>\n",
       "      <th>Score</th>\n",
       "      <th>Release</th>\n",
       "    </tr>\n",
       "  </thead>\n",
       "  <tbody>\n",
       "    <tr>\n",
       "      <th>0</th>\n",
       "      <td>Star Wars: The Rise of Skywalker</td>\n",
       "      <td>55</td>\n",
       "      <td>In Theaters Oct 25</td>\n",
       "    </tr>\n",
       "    <tr>\n",
       "      <th>1</th>\n",
       "      <td>Jumanji: The Next Level</td>\n",
       "      <td>70</td>\n",
       "      <td>In Theaters Oct 25</td>\n",
       "    </tr>\n",
       "    <tr>\n",
       "      <th>2</th>\n",
       "      <td>Frozen II</td>\n",
       "      <td>77</td>\n",
       "      <td>In Theaters Oct 25</td>\n",
       "    </tr>\n",
       "    <tr>\n",
       "      <th>3</th>\n",
       "      <td>Cats</td>\n",
       "      <td>18</td>\n",
       "      <td>In Theaters Oct 25</td>\n",
       "    </tr>\n",
       "    <tr>\n",
       "      <th>4</th>\n",
       "      <td>Knives Out</td>\n",
       "      <td>96</td>\n",
       "      <td>In Theaters Oct 25</td>\n",
       "    </tr>\n",
       "  </tbody>\n",
       "</table>\n",
       "</div>"
      ],
      "text/plain": [
       "                              Title Score             Release\n",
       "0  Star Wars: The Rise of Skywalker    55  In Theaters Oct 25\n",
       "1           Jumanji: The Next Level    70  In Theaters Oct 25\n",
       "2                         Frozen II    77  In Theaters Oct 25\n",
       "3                              Cats    18  In Theaters Oct 25\n",
       "4                        Knives Out    96  In Theaters Oct 25"
      ]
     },
     "execution_count": 10,
     "metadata": {},
     "output_type": "execute_result"
    }
   ],
   "source": [
    "#Scrape the data into columns\n",
    "\n",
    "for entry in html.find_all(name = 'div',attrs = {'class':\"mb-movie\"}):\n",
    "    \n",
    "    title = entry.find('h3', {'class':'movieTitle'}).text\n",
    "    score = entry.find('span',{'class':'tMeterScore'}).text.strip('%')\n",
    "    release = entry.find('p',{'class':'release-date'}).text\n",
    "       \n",
    "    \n",
    "    oscar.loc[len(oscar)]=[title, score, duration]\n",
    "\n",
    "oscar.head()"
   ]
  },
  {
   "cell_type": "code",
   "execution_count": 12,
   "metadata": {},
   "outputs": [
    {
     "data": {
      "text/plain": [
       "18    2\n",
       "23    2\n",
       "25    2\n",
       "39    2\n",
       "40    2\n",
       "44    4\n",
       "47    2\n",
       "51    2\n",
       "55    2\n",
       "68    2\n",
       "69    2\n",
       "70    4\n",
       "73    4\n",
       "77    2\n",
       "79    2\n",
       "81    2\n",
       "83    4\n",
       "91    2\n",
       "92    2\n",
       "94    4\n",
       "95    2\n",
       "96    2\n",
       "97    4\n",
       "99    2\n",
       "Name: Score, dtype: int64"
      ]
     },
     "execution_count": 12,
     "metadata": {},
     "output_type": "execute_result"
    }
   ],
   "source": [
    "# \n",
    "oscar.Score.value_counts().sort_index()\n"
   ]
  },
  {
   "cell_type": "code",
   "execution_count": 17,
   "metadata": {},
   "outputs": [
    {
     "data": {
      "text/html": [
       "<div>\n",
       "<style scoped>\n",
       "    .dataframe tbody tr th:only-of-type {\n",
       "        vertical-align: middle;\n",
       "    }\n",
       "\n",
       "    .dataframe tbody tr th {\n",
       "        vertical-align: top;\n",
       "    }\n",
       "\n",
       "    .dataframe thead th {\n",
       "        text-align: right;\n",
       "    }\n",
       "</style>\n",
       "<table border=\"1\" class=\"dataframe\">\n",
       "  <thead>\n",
       "    <tr style=\"text-align: right;\">\n",
       "      <th></th>\n",
       "      <th>Title</th>\n",
       "      <th>Score</th>\n",
       "      <th>Release</th>\n",
       "      <th>Nomination</th>\n",
       "    </tr>\n",
       "  </thead>\n",
       "  <tbody>\n",
       "    <tr>\n",
       "      <th>0</th>\n",
       "      <td>Star Wars: The Rise of Skywalker</td>\n",
       "      <td>55</td>\n",
       "      <td>In Theaters Oct 25</td>\n",
       "      <td>0</td>\n",
       "    </tr>\n",
       "    <tr>\n",
       "      <th>1</th>\n",
       "      <td>Jumanji: The Next Level</td>\n",
       "      <td>70</td>\n",
       "      <td>In Theaters Oct 25</td>\n",
       "      <td>0</td>\n",
       "    </tr>\n",
       "    <tr>\n",
       "      <th>2</th>\n",
       "      <td>Frozen II</td>\n",
       "      <td>77</td>\n",
       "      <td>In Theaters Oct 25</td>\n",
       "      <td>0</td>\n",
       "    </tr>\n",
       "    <tr>\n",
       "      <th>3</th>\n",
       "      <td>Cats</td>\n",
       "      <td>18</td>\n",
       "      <td>In Theaters Oct 25</td>\n",
       "      <td>0</td>\n",
       "    </tr>\n",
       "    <tr>\n",
       "      <th>4</th>\n",
       "      <td>Knives Out</td>\n",
       "      <td>96</td>\n",
       "      <td>In Theaters Oct 25</td>\n",
       "      <td>1</td>\n",
       "    </tr>\n",
       "  </tbody>\n",
       "</table>\n",
       "</div>"
      ],
      "text/plain": [
       "                              Title Score             Release  Nomination\n",
       "0  Star Wars: The Rise of Skywalker    55  In Theaters Oct 25           0\n",
       "1           Jumanji: The Next Level    70  In Theaters Oct 25           0\n",
       "2                         Frozen II    77  In Theaters Oct 25           0\n",
       "3                              Cats    18  In Theaters Oct 25           0\n",
       "4                        Knives Out    96  In Theaters Oct 25           1"
      ]
     },
     "execution_count": 17,
     "metadata": {},
     "output_type": "execute_result"
    }
   ],
   "source": [
    "oscar['Nomination'] = oscar.Score.map({\"0\":0, \"16\":0,\"18\":0,\"22\":0,\"23\":0,\"25\":0,\n",
    "                                       \"39\":0,\"40\":0,\"44\":0,\"47\":0,\"51\":0,\"55\":0,\n",
    "                                       \"65\":0,\"66\":0,\"68\":0,\"69\":0,\"70\":0,\"73\":0,\n",
    "                                       \"77\":0,\"79\":0, \n",
    "                                       \"81\":1, \"82\":1,\"83\":1,\"85\":1,\"91\":1, \"92\":1, \"93\":1,\n",
    "                                       \"94\":1, \"95\":1, \"97\":1, \"89\":1,\"99\":1, \n",
    "                                       \"96\":1,\"100\":1})\n",
    "oscar.head()"
   ]
  },
  {
   "cell_type": "code",
   "execution_count": 31,
   "metadata": {},
   "outputs": [],
   "source": [
    "#Fit logistic Regression\n",
    "from sklearn.linear_model import LogisticRegression\n",
    "\n",
    "logreg = LogisticRegression(solver='liblinear')\n",
    "\n",
    "feature_cols = ['Score']\n",
    "X = oscar[feature_cols]\n",
    "y = oscar.Nomination\n",
    "\n",
    "logreg.fit(X,y)\n",
    "pred = logreg.predict(X)"
   ]
  },
  {
   "cell_type": "code",
   "execution_count": 32,
   "metadata": {},
   "outputs": [
    {
     "data": {
      "text/plain": [
       "Text(0, 0.5, 'Nomination')"
      ]
     },
     "execution_count": 32,
     "metadata": {},
     "output_type": "execute_result"
    },
    {
     "data": {
      "image/png": "[encoded data removed]",
      "text/plain": [
       "<Figure size 432x288 with 1 Axes>"
      ]
     },
     "metadata": {
      "needs_background": "light"
     },
     "output_type": "display_data"
    }
   ],
   "source": [
    "#Plot Logistic Regression\n",
    "\n",
    "import seaborn as sns\n",
    "import matplotlib.pyplot as plt\n",
    "%matplotlib inline\n",
    "\n",
    "plt.scatter(oscar.Score, oscar.Nomination)\n",
    "plt.plot(oscar.Score, pred, color='indianred')\n",
    "plt.xlabel('Score')\n",
    "plt.ylabel('Nomination')"
   ]
  },
  {
   "cell_type": "code",
   "execution_count": 33,
   "metadata": {},
   "outputs": [
    {
     "data": {
      "text/plain": [
       "array([[0.70932103, 0.29067897],\n",
       "       [0.55494058, 0.44505942],\n",
       "       [0.47684575, 0.52315425],\n",
       "       [0.92745897, 0.07254103],\n",
       "       [0.28026082, 0.71973918],\n",
       "       [0.5769287 , 0.4230713 ],\n",
       "       [0.52157813, 0.47842187],\n",
       "       [0.4106552 , 0.5893448 ],\n",
       "       [0.83317336, 0.16682664],\n",
       "       [0.3177527 , 0.6822473 ]])"
      ]
     },
     "execution_count": 33,
     "metadata": {},
     "output_type": "execute_result"
    }
   ],
   "source": [
    "#Predicted Probabilities first 10 rows\n",
    "logreg.predict_proba(X)[0:10]"
   ]
  },
  {
   "cell_type": "code",
   "execution_count": 34,
   "metadata": {},
   "outputs": [],
   "source": [
    "#Store probabilities\n",
    "\n",
    "oscar['nomination_pred_prob'] = logreg.predict_proba(X)[:, 1]"
   ]
  },
  {
   "cell_type": "code",
   "execution_count": 35,
   "metadata": {},
   "outputs": [
    {
     "data": {
      "text/plain": [
       "Text(0, 0.5, 'Nomination')"
      ]
     },
     "execution_count": 35,
     "metadata": {},
     "output_type": "execute_result"
    },
    {
     "data": {
      "image/png": "[encoded data removed]",
      "text/plain": [
       "<Figure size 432x288 with 1 Axes>"
      ]
     },
     "metadata": {
      "needs_background": "light"
     },
     "output_type": "display_data"
    }
   ],
   "source": [
    "#Plot probabilities\n",
    "\n",
    "plt.scatter(oscar.Score, oscar.Nomination)\n",
    "plt.plot(oscar.Score, oscar.nomination_pred_prob, color='indianred')\n",
    "plt.xlabel('Score')\n",
    "plt.ylabel('Nomination')"
   ]
  },
  {
   "cell_type": "code",
   "execution_count": 36,
   "metadata": {},
   "outputs": [
    {
     "data": {
      "text/plain": [
       "array([0.2269704])"
      ]
     },
     "execution_count": 36,
     "metadata": {},
     "output_type": "execute_result"
    }
   ],
   "source": [
    "#Predicted log odds for Score = 80\n",
    "logodds = logreg.intercept_ + logreg.coef_[0] * 80\n",
    "logodds"
   ]
  },
  {
   "cell_type": "code",
   "execution_count": 37,
   "metadata": {},
   "outputs": [
    {
     "data": {
      "text/plain": [
       "array([1.25479273])"
      ]
     },
     "execution_count": 37,
     "metadata": {},
     "output_type": "execute_result"
    }
   ],
   "source": [
    "import numpy as np\n",
    "odds = np.exp(logodds)\n",
    "odds"
   ]
  },
  {
   "cell_type": "code",
   "execution_count": 38,
   "metadata": {},
   "outputs": [
    {
     "data": {
      "text/plain": [
       "array([0.55650025])"
      ]
     },
     "execution_count": 38,
     "metadata": {},
     "output_type": "execute_result"
    }
   ],
   "source": [
    "#Predicted probability of a movie being Nominated for Oscar when score is 80%\n",
    "prob = odds/(1 + odds)\n",
    "prob"
   ]
  },
  {
   "cell_type": "markdown",
   "metadata": {},
   "source": [
    "## Advanced Classification Metrics"
   ]
  },
  {
   "cell_type": "code",
   "execution_count": 42,
   "metadata": {},
   "outputs": [],
   "source": [
    "import pandas as pd\n",
    "from sklearn import linear_model, model_selection, metrics\n",
    "\n",
    "X = oscar[['Score']]\n",
    "y = oscar['Nomination']\n",
    "\n",
    "#Split the data on training and testing sets\n",
    "X_train, X_test, y_train, y_test = model_selection.train_test_split(X, y, random_state=46)\n",
    "\n",
    "#Fit the model\n",
    "logit_simple = linear_model.LogisticRegression(C=1e9, solver='liblinear').fit(X_train, y_train)"
   ]
  },
  {
   "cell_type": "code",
   "execution_count": 43,
   "metadata": {},
   "outputs": [
    {
     "data": {
      "text/plain": [
       "0.6888888888888889"
      ]
     },
     "execution_count": 43,
     "metadata": {},
     "output_type": "execute_result"
    }
   ],
   "source": [
    "1. - y_train.mean()"
   ]
  },
  {
   "cell_type": "code",
   "execution_count": 44,
   "metadata": {},
   "outputs": [
    {
     "name": "stdout",
     "output_type": "stream",
     "text": [
      "1.0\n"
     ]
    }
   ],
   "source": [
    "print(np.mean(y_test == logit_simple.predict(X_test)))"
   ]
  },
  {
   "cell_type": "code",
   "execution_count": 45,
   "metadata": {},
   "outputs": [],
   "source": [
    "# Prediction Probability of being nominated\n",
    "\n",
    "logit_pred_proba = logit_simple.predict_proba(X_test)[:,1]"
   ]
  },
  {
   "cell_type": "code",
   "execution_count": 46,
   "metadata": {},
   "outputs": [
    {
     "data": {
      "text/plain": [
       "array([[ 5,  0],\n",
       "       [ 0, 10]])"
      ]
     },
     "execution_count": 46,
     "metadata": {},
     "output_type": "execute_result"
    }
   ],
   "source": [
    "# Confusion Matrix\n",
    "\n",
    "metrics.confusion_matrix(y_true=y_test, y_pred=logit_pred_proba > .5)"
   ]
  },
  {
   "cell_type": "markdown",
   "metadata": {},
   "source": [
    "As this example has only one independent variable, predictions result is not profound. However, the analyses demostrate useful webscraping tool and classification models using such python libraries as numpy,pandas, sklearn and BeautifulSoup. "
   ]
  }
 ],
 "metadata": {
  "kernelspec": {
   "display_name": "Python 3",
   "language": "python",
   "name": "python3"
  },
  "language_info": {
   "codemirror_mode": {
    "name": "ipython",
    "version": 3
   },
   "file_extension": ".py",
   "mimetype": "text/x-python",
   "name": "python",
   "nbconvert_exporter": "python",
   "pygments_lexer": "ipython3",
   "version": "3.7.3"
  }
 },
 "nbformat": 4,
 "nbformat_minor": 2
}
